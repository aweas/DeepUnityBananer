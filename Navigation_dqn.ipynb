{
 "cells": [
  {
   "cell_type": "markdown",
   "metadata": {},
   "source": [
    "# Navigation via DQN\n",
    "\n",
    "---\n",
    "\n",
    "## Training of a DQN agent playing \"Banana\" environment"
   ]
  },
  {
   "cell_type": "markdown",
   "metadata": {},
   "source": [
    "### Initializing environment"
   ]
  },
  {
   "cell_type": "code",
   "execution_count": 1,
   "metadata": {},
   "outputs": [
    {
     "name": "stderr",
     "output_type": "stream",
     "text": [
      "C:\\ProgramData\\Anaconda3\\lib\\site-packages\\h5py\\__init__.py:36: FutureWarning: Conversion of the second argument of issubdtype from `float` to `np.floating` is deprecated. In future, it will be treated as `np.float64 == np.dtype(float).type`.\n",
      "  from ._conv import register_converters as _register_converters\n"
     ]
    }
   ],
   "source": [
    "from unityagents import UnityEnvironment\n",
    "import numpy as np\n",
    "import tensorflow as tf\n",
    "import importlib\n",
    "import sys\n",
    "import matplotlib.pyplot as plt\n",
    "import tqdm\n",
    "from collections import namedtuple, deque\n",
    "import random\n",
    "import pandas as pd"
   ]
  },
  {
   "cell_type": "markdown",
   "metadata": {},
   "source": [
    "### Creating agent"
   ]
  },
  {
   "cell_type": "code",
   "execution_count": 2,
   "metadata": {},
   "outputs": [],
   "source": [
    "from dqn_agent import Agent\n",
    "from model import QNetworkTf"
   ]
  },
  {
   "cell_type": "code",
   "execution_count": 3,
   "metadata": {},
   "outputs": [],
   "source": [
    "class ReinforcementNetwork(QNetworkTf):\n",
    "    def _inference(self):\n",
    "        with tf.variable_scope(\"inference_\"+self.name):\n",
    "            layer = tf.layers.dense(self.input, 128, activation=tf.nn.relu)\n",
    "            layer = tf.layers.dense(layer, 128, activation=tf.nn.relu)\n",
    "            output = tf.layers.dense(layer, 4)\n",
    "        return output"
   ]
  },
  {
   "cell_type": "code",
   "execution_count": 4,
   "metadata": {},
   "outputs": [
    {
     "name": "stderr",
     "output_type": "stream",
     "text": [
      "INFO:unityagents:\n",
      "'Academy' started successfully!\n",
      "Unity Academy name: Academy\n",
      "        Number of Brains: 1\n",
      "        Number of External Brains : 1\n",
      "        Lesson number : 0\n",
      "        Reset Parameters :\n",
      "\t\t\n",
      "Unity brain name: BananaBrain\n",
      "        Number of Visual Observations (per agent): 0\n",
      "        Vector Observation space type: continuous\n",
      "        Vector Observation space size (per agent): 37\n",
      "        Number of stacked Vector Observation: 1\n",
      "        Vector Action space type: discrete\n",
      "        Vector Action space size (per agent): 4\n",
      "        Vector Action descriptions: , , , \n"
     ]
    }
   ],
   "source": [
    "env = UnityEnvironment(file_name = \"data/Banana.exe\")"
   ]
  },
  {
   "cell_type": "code",
   "execution_count": 5,
   "metadata": {},
   "outputs": [],
   "source": [
    "brain_name = env.brain_names[0]\n",
    "brain = env.brains[brain_name]\n",
    "env_info = env.reset(train_mode=True)[brain_name] # reset the environment\n",
    "state = env_info.vector_observations[0]            # get the current state\n",
    "score = 0 \n",
    "reward = None\n",
    "done = False"
   ]
  },
  {
   "cell_type": "code",
   "execution_count": 6,
   "metadata": {},
   "outputs": [],
   "source": [
    "dqn_agent = Agent(ReinforcementNetwork, 37, 4, 42)"
   ]
  },
  {
   "cell_type": "code",
   "execution_count": 7,
   "metadata": {},
   "outputs": [
    {
     "name": "stderr",
     "output_type": "stream",
     "text": [
      " 49%|██████████████████▏                  | 981/2000 [17:02<17:42,  1.04s/it, loss=0.0453, max_score=29, mean_score=13]"
     ]
    },
    {
     "name": "stdout",
     "output_type": "stream",
     "text": [
      "Achieved mean 13.0 in 982 episodes\n"
     ]
    },
    {
     "name": "stderr",
     "output_type": "stream",
     "text": [
      "\n"
     ]
    }
   ],
   "source": [
    "def run(agent, env, num_episodes=20000, mode='train'):\n",
    "    \"\"\"Run agent in given reinforcement learning environment and return scores.\"\"\"\n",
    "    scores = []\n",
    "    max_avg_score = -np.inf\n",
    "    train_mode=True\n",
    "    agent.set_epsilon(1.0, 0.01, 0.5*num_episodes)\n",
    "\n",
    "    if mode=='test':\n",
    "        num_episodes = 1\n",
    "        train_mode=False\n",
    "        \n",
    "    with tqdm.trange(1, num_episodes+1) as t:\n",
    "        for i_episode in t:\n",
    "            last_state = None\n",
    "            last_action = None\n",
    "            state = env.reset(train_mode=train_mode)[brain_name].vector_observations[0] \n",
    "\n",
    "            total_reward = 0\n",
    "            done = False\n",
    "            action = agent.act(state)\n",
    "            \n",
    "            while not done:\n",
    "                env_info = env.step([action])[brain_name]\n",
    "                state = env_info.vector_observations[0]   \n",
    "                reward = env_info.rewards[0]\n",
    "                done = env_info.local_done[0]\n",
    "\n",
    "                total_reward += reward\n",
    "                \n",
    "                if last_state is not None:\n",
    "                    agent.step(last_state, last_action, reward, state, done)\n",
    "                action = agent.act(state, mode)\n",
    "                \n",
    "                last_state = state\n",
    "                last_action = action\n",
    "                \n",
    "            scores.append(total_reward)\n",
    "            agent.reset_episode()\n",
    "            \n",
    "            if mode == 'train':\n",
    "                if i_episode>100:\n",
    "                    mn = np.mean(scores[:-100])\n",
    "                else:\n",
    "                    mn = 0\n",
    "                t.set_postfix(max_score=np.max(scores), loss=agent.loss, mean_score=mn)\n",
    "                agent.loss = 0\n",
    "                agent.learning_steps = 0\n",
    "                if mn>13.0:\n",
    "                    print(f\"Achieved mean 13.0 in {i_episode} episodes\")\n",
    "                    break\n",
    "    return scores\n",
    "\n",
    "scores = run(dqn_agent, env, num_episodes=2000, mode='train')"
   ]
  },
  {
   "cell_type": "code",
   "execution_count": 21,
   "metadata": {},
   "outputs": [
    {
     "data": {
      "image/png": "[encoded data removed]",
      "text/plain": [
       "<Figure size 432x288 with 1 Axes>"
      ]
     },
     "metadata": {},
     "output_type": "display_data"
    }
   ],
   "source": [
    "means = np.convolve(scores, np.ones((100,))/100, mode='valid')\n",
    "plt.plot(np.arange(len(scores)), scores, )\n",
    "plt.show()\n",
    "# run(dqn_agent, env, num_episodes=1, mode='test')"
   ]
  },
  {
   "cell_type": "code",
   "execution_count": 15,
   "metadata": {},
   "outputs": [
    {
     "data": {
      "text/plain": [
       "array([ 2.79,  2.86,  2.91,  2.99,  3.13,  3.32,  3.43,  3.56,  3.64,\n",
       "        3.7 ,  3.82,  3.92,  3.97,  4.02,  4.11,  4.2 ,  4.21,  4.24,\n",
       "        4.29,  4.35,  4.38,  4.51,  4.55,  4.73,  4.82,  4.87,  4.89,\n",
       "        5.05,  5.17,  5.21,  5.26,  5.33,  5.39,  5.46,  5.52,  5.66,\n",
       "        5.68,  5.67,  5.71,  5.75,  5.81,  5.84,  5.93,  6.  ,  6.07,\n",
       "        6.07,  6.19,  6.28,  6.37,  6.38,  6.46,  6.56,  6.65,  6.68,\n",
       "        6.78,  6.84,  6.96,  7.02,  7.12,  7.22,  7.29,  7.41,  7.43,\n",
       "        7.48,  7.52,  7.62,  7.71,  7.77,  7.89,  7.99,  8.03,  8.1 ,\n",
       "        8.16,  8.19,  8.27,  8.3 ,  8.43,  8.47,  8.54,  8.57,  8.81,\n",
       "        8.75,  8.74,  8.74,  8.87,  8.97,  9.06,  9.17,  9.25,  9.3 ,\n",
       "        9.39,  9.45,  9.47,  9.48,  9.4 ,  9.31,  9.37,  9.41,  9.46,\n",
       "        9.47,  9.52,  9.48,  9.47,  9.51,  9.5 ,  9.46,  9.4 ,  9.41,\n",
       "        9.45,  9.45,  9.43,  9.39,  9.53,  9.56,  9.58,  9.58,  9.62,\n",
       "        9.68,  9.77,  9.93,  9.97,  9.98, 10.01,  9.93,  9.93,  9.97,\n",
       "       10.14, 10.07, 10.12, 10.13, 10.19, 10.27, 10.31, 10.44, 10.4 ,\n",
       "       10.24, 10.35, 10.48, 10.56, 10.52, 10.61, 10.76, 10.75, 10.67,\n",
       "       10.7 , 10.73, 10.75, 10.65, 10.67, 10.79, 10.9 , 10.97, 10.91,\n",
       "       10.88, 10.94, 11.04, 11.05, 11.13, 11.19, 11.22, 11.24, 11.25,\n",
       "       11.29, 11.35, 11.3 , 11.17, 11.14, 11.15, 11.15, 11.07, 11.16,\n",
       "       11.2 , 11.15, 11.19, 11.2 , 11.23, 11.23, 11.34, 11.36, 11.39,\n",
       "       11.22, 11.26, 11.37, 11.43, 11.42, 11.44, 11.43, 11.38, 11.36,\n",
       "       11.42, 11.45, 11.42, 11.46, 11.39, 11.55, 11.7 , 11.78, 11.8 ,\n",
       "       11.85, 11.92, 11.96, 12.08, 12.17, 12.07, 12.13, 12.13, 12.27,\n",
       "       12.25, 12.3 , 12.25, 12.26, 12.31, 12.28, 12.34, 12.35, 12.4 ,\n",
       "       12.46, 12.52, 12.53, 12.41, 12.43, 12.49, 12.61, 12.65, 12.62,\n",
       "       12.65, 12.64, 12.65, 12.66, 12.76, 12.77, 12.78, 12.85, 12.82,\n",
       "       12.85, 13.01, 12.98, 12.91, 12.92, 13.04, 13.01, 12.98, 13.02,\n",
       "       13.17, 13.25, 13.34, 13.37, 13.47, 13.52, 13.56, 13.49, 13.43,\n",
       "       13.6 , 13.76, 13.69, 13.62, 13.68, 13.65, 13.64, 13.65, 13.59,\n",
       "       13.63, 13.64, 13.67, 13.83, 14.05, 14.11, 14.21, 14.19, 14.3 ,\n",
       "       14.33, 14.43, 14.51, 14.52, 14.65, 14.71, 14.64, 14.59, 14.63,\n",
       "       14.67, 14.75, 14.81, 14.81, 14.82, 14.82, 14.89, 14.97, 15.04,\n",
       "       15.09, 14.98, 15.01, 15.04, 15.06, 15.21, 15.15, 15.11, 15.14,\n",
       "       15.2 , 15.22, 15.19, 15.24, 15.25, 15.21, 15.37, 15.38, 15.43,\n",
       "       15.27, 15.35, 15.34, 15.5 , 15.56, 15.6 , 15.57, 15.61, 15.68,\n",
       "       15.69, 15.75, 15.78, 15.78, 15.86, 15.89, 15.72, 15.63, 15.62,\n",
       "       15.83, 15.83, 15.85, 15.88, 15.79, 15.86, 15.95, 15.96, 15.9 ,\n",
       "       15.86, 15.93, 15.97, 16.02, 16.08, 16.07, 15.96, 16.01, 15.98,\n",
       "       15.98, 15.98, 16.01, 16.07, 15.98, 15.96, 16.  , 16.02, 16.07,\n",
       "       16.17, 16.15, 16.18, 16.29, 16.36, 16.3 , 16.36, 16.39, 16.39,\n",
       "       16.38, 16.35, 16.34, 16.33, 16.35, 16.27, 16.31, 16.26, 16.27,\n",
       "       16.09, 16.09, 16.04, 16.12, 16.16, 16.08, 16.01, 16.04, 16.03,\n",
       "       16.12, 16.02, 16.01, 16.01, 16.01, 16.09, 16.07, 16.05, 16.07,\n",
       "       16.04, 16.01, 16.15, 16.19, 16.25, 16.25, 16.29, 16.33, 16.36,\n",
       "       16.29, 16.27, 16.13, 16.21, 16.16, 16.18, 16.26, 16.25, 16.28,\n",
       "       16.23, 16.32, 16.3 , 16.35, 16.37, 16.22, 16.16, 16.18, 16.16,\n",
       "       16.07, 16.12, 16.06, 15.98, 16.02, 15.97, 15.99, 16.1 , 16.12,\n",
       "       16.08, 15.99, 16.07, 15.96, 16.02, 16.06, 16.04, 15.83, 15.81,\n",
       "       15.83, 15.91, 15.87, 15.85, 15.76, 15.71, 15.76, 15.97, 15.9 ,\n",
       "       15.95, 15.92, 15.94, 15.94, 15.92, 15.98, 16.  , 15.94, 15.97,\n",
       "       15.93, 15.85, 15.81, 15.74, 15.64, 15.6 , 15.59, 15.51, 15.52,\n",
       "       15.52, 15.56, 15.53, 15.62, 15.69, 15.63, 15.7 , 15.67, 15.6 ,\n",
       "       15.69, 15.8 , 15.78, 15.71, 15.61, 15.55, 15.54, 15.49, 15.47,\n",
       "       15.47, 15.36, 15.43, 15.49, 15.58, 15.6 , 15.47, 15.31, 15.29,\n",
       "       15.25, 15.27, 15.24, 15.22, 15.15, 15.02, 14.98, 14.93, 14.96,\n",
       "       14.94, 14.95, 14.99, 15.09, 15.09, 15.07, 15.05, 15.05, 15.02,\n",
       "       15.04, 15.09, 15.16, 15.22, 15.14, 15.09, 15.22, 15.34, 15.39,\n",
       "       15.34, 15.29, 15.3 , 15.35, 15.44, 15.44, 15.48, 15.41, 15.45,\n",
       "       15.53, 15.6 , 15.61, 15.61, 15.7 , 15.7 , 15.69, 15.68, 15.83,\n",
       "       15.87, 15.95, 15.92, 15.97, 15.88, 15.88, 15.94, 15.89, 15.77,\n",
       "       15.72, 15.72, 15.75, 15.66, 15.6 , 15.55, 15.52, 15.39, 15.41,\n",
       "       15.35, 15.39, 15.47, 15.47, 15.43, 15.49, 15.45, 15.49, 15.57,\n",
       "       15.51, 15.51, 15.54, 15.59, 15.57, 15.42, 15.42, 15.34, 15.33,\n",
       "       15.42, 15.27, 15.14, 15.24, 15.27, 15.29, 15.3 , 15.27, 15.41,\n",
       "       15.43, 15.47, 15.51, 15.53, 15.51, 15.39, 15.4 , 15.41, 15.56,\n",
       "       15.59, 15.58, 15.67, 15.68, 15.71, 15.77, 15.81, 15.81, 15.82,\n",
       "       15.76, 15.77, 15.79, 15.77, 15.82, 15.81, 15.8 , 15.81, 15.84,\n",
       "       15.82, 15.81, 15.77, 15.72, 15.58, 15.63, 15.73, 15.78, 15.68,\n",
       "       15.7 , 15.73, 15.83, 15.77, 15.8 , 15.77, 15.8 , 15.78, 15.9 ,\n",
       "       15.87, 15.79, 15.73, 15.7 , 15.67, 15.65, 15.68, 15.73, 15.63,\n",
       "       15.65, 15.61, 15.59, 15.57, 15.58, 15.55, 15.51, 15.48, 15.41,\n",
       "       15.46, 15.55, 15.54, 15.47, 15.56, 15.54, 15.56, 15.64, 15.78,\n",
       "       15.77, 15.76, 15.75, 15.69, 15.66, 15.65, 15.62, 15.66, 15.61,\n",
       "       15.52, 15.52, 15.54, 15.49, 15.52, 15.46, 15.51, 15.51, 15.52,\n",
       "       15.55, 15.62, 15.57, 15.78, 15.75, 15.75, 15.79, 15.74, 15.71,\n",
       "       15.66, 15.68, 15.68, 15.63, 15.64, 15.69, 15.67, 15.63, 15.74,\n",
       "       15.7 , 15.67, 15.62, 15.54, 15.58, 15.61, 15.59, 15.62, 15.63,\n",
       "       15.66, 15.73, 15.71, 15.7 , 15.72, 15.73, 15.63, 15.56, 15.58,\n",
       "       15.55, 15.57, 15.54, 15.52, 15.53, 15.59, 15.5 , 15.43, 15.39,\n",
       "       15.45, 15.38, 15.42, 15.39, 15.43, 15.38, 15.41, 15.34, 15.4 ,\n",
       "       15.38, 15.37, 15.34, 15.45, 15.49, 15.47, 15.46, 15.4 , 15.34,\n",
       "       15.36, 15.34, 15.36, 15.34, 15.36, 15.34, 15.47, 15.66, 15.68,\n",
       "       15.67, 15.67, 15.71, 15.64, 15.65, 15.58, 15.51, 15.49, 15.39,\n",
       "       15.32, 15.34, 15.33, 15.27, 15.28, 15.37, 15.43, 15.46, 15.38,\n",
       "       15.33, 15.42, 15.44, 15.4 , 15.38, 15.33, 15.36, 15.34, 15.38,\n",
       "       15.39, 15.29, 15.26, 15.42, 15.32, 15.29, 15.36, 15.31, 15.4 ,\n",
       "       15.43, 15.4 , 15.39, 15.43, 15.49, 15.5 , 15.39, 15.47, 15.52,\n",
       "       15.44, 15.49, 15.48, 15.57, 15.56, 15.62, 15.5 , 15.47, 15.39,\n",
       "       15.43, 15.41, 15.39, 15.38, 15.35, 15.27, 15.19, 15.33, 15.45,\n",
       "       15.37, 15.34, 15.29, 15.26, 15.34, 15.35, 15.28, 15.37, 15.38,\n",
       "       15.4 , 15.34, 15.25, 15.25, 15.31, 15.25, 15.26, 15.24, 15.26,\n",
       "       15.22, 15.27, 15.35, 15.34, 15.25, 15.25, 15.22, 15.27, 15.36,\n",
       "       15.43, 15.51, 15.45, 15.46, 15.48, 15.44, 15.39, 15.34, 15.3 ,\n",
       "       15.28, 15.36, 15.38, 15.35, 15.33, 15.39, 15.44, 15.53, 15.57,\n",
       "       15.65, 15.77, 15.73, 15.71, 15.73, 15.74, 15.67, 15.68, 15.68,\n",
       "       15.77, 15.88, 15.81, 15.77, 15.77, 15.86, 15.96, 16.04, 16.12,\n",
       "       16.14, 16.2 , 16.28, 16.09, 16.1 , 16.14, 16.03, 16.04, 16.1 ,\n",
       "       16.  , 16.02, 16.05, 16.07, 15.94, 15.85, 15.84, 15.92, 15.89,\n",
       "       15.82])"
      ]
     },
     "execution_count": 15,
     "metadata": {},
     "output_type": "execute_result"
    }
   ],
   "source": [
    "np.convolve(scores, np.ones((100,))/100, mode='valid')"
   ]
  },
  {
   "cell_type": "code",
   "execution_count": 9,
   "metadata": {},
   "outputs": [
    {
     "data": {
      "text/plain": [
       "'models/model.ckpt'"
      ]
     },
     "execution_count": 9,
     "metadata": {},
     "output_type": "execute_result"
    }
   ],
   "source": [
    "dqn_agent.saver.save(dqn_agent.sess, \"models/model.ckpt\") "
   ]
  }
 ],
 "metadata": {
  "kernelspec": {
   "display_name": "Python 3",
   "language": "python",
   "name": "python3"
  },
  "language_info": {
   "codemirror_mode": {
    "name": "ipython",
    "version": 3
   },
   "file_extension": ".py",
   "mimetype": "text/x-python",
   "name": "python",
   "nbconvert_exporter": "python",
   "pygments_lexer": "ipython3",
   "version": "3.6.5"
  }
 },
 "nbformat": 4,
 "nbformat_minor": 2
}
