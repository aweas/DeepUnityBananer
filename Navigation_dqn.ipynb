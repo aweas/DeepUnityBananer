{
 "cells": [
  {
   "cell_type": "markdown",
   "metadata": {},
   "source": [
    "# Navigation via DQN\n",
    "\n",
    "---\n",
    "\n",
    "## Training of a DQN agent playing \"Banana\" environment"
   ]
  },
  {
   "cell_type": "markdown",
   "metadata": {},
   "source": [
    "### Initializing environment"
   ]
  },
  {
   "cell_type": "code",
   "execution_count": 1,
   "metadata": {},
   "outputs": [
    {
     "name": "stderr",
     "output_type": "stream",
     "text": [
      "C:\\ProgramData\\Anaconda3\\lib\\site-packages\\h5py\\__init__.py:36: FutureWarning: Conversion of the second argument of issubdtype from `float` to `np.floating` is deprecated. In future, it will be treated as `np.float64 == np.dtype(float).type`.\n",
      "  from ._conv import register_converters as _register_converters\n"
     ]
    }
   ],
   "source": [
    "from unityagents import UnityEnvironment\n",
    "import numpy as np\n",
    "import tensorflow as tf\n",
    "import importlib\n",
    "import sys\n",
    "import matplotlib.pyplot as plt\n",
    "import tqdm\n",
    "from collections import namedtuple, deque\n",
    "import random"
   ]
  },
  {
   "cell_type": "markdown",
   "metadata": {},
   "source": [
    "### Creating agent"
   ]
  },
  {
   "cell_type": "code",
   "execution_count": 2,
   "metadata": {},
   "outputs": [],
   "source": [
    "from dqn_agent import Agent\n",
    "from model import QNetworkTf"
   ]
  },
  {
   "cell_type": "code",
   "execution_count": 3,
   "metadata": {},
   "outputs": [],
   "source": [
    "class ReinforcementNetwork(QNetworkTf):\n",
    "    def _inference(self):\n",
    "        with tf.variable_scope(\"inference_\"+self.name):\n",
    "            layer = tf.layers.dense(self.input, 128, activation=tf.nn.relu)\n",
    "            layer = tf.layers.dense(layer, 128, activation=tf.nn.relu)\n",
    "#             layer = tf.layers.dense(layer, 256, activation=tf.nn.relu)\n",
    "#             layer = tf.layers.dense(layer, 128, activation=tf.nn.relu)\n",
    "#             layer = tf.layers.dense(layer, 64, activation=tf.nn.relu)\n",
    "#             layer = tf.layers.dense(layer, 128, activation=tf.nn.relu)\n",
    "#             layer = tf.layers.dense(layer, 64, activation=tf.nn.relu)\n",
    "            output = tf.layers.dense(layer, 4)\n",
    "        return output"
   ]
  },
  {
   "cell_type": "code",
   "execution_count": 4,
   "metadata": {},
   "outputs": [
    {
     "name": "stderr",
     "output_type": "stream",
     "text": [
      "INFO:unityagents:\n",
      "'Academy' started successfully!\n",
      "Unity Academy name: Academy\n",
      "        Number of Brains: 1\n",
      "        Number of External Brains : 1\n",
      "        Lesson number : 0\n",
      "        Reset Parameters :\n",
      "\t\t\n",
      "Unity brain name: BananaBrain\n",
      "        Number of Visual Observations (per agent): 0\n",
      "        Vector Observation space type: continuous\n",
      "        Vector Observation space size (per agent): 37\n",
      "        Number of stacked Vector Observation: 1\n",
      "        Vector Action space type: discrete\n",
      "        Vector Action space size (per agent): 4\n",
      "        Vector Action descriptions: , , , \n"
     ]
    }
   ],
   "source": [
    "env = UnityEnvironment(file_name = \"data/Banana.exe\")"
   ]
  },
  {
   "cell_type": "code",
   "execution_count": 5,
   "metadata": {},
   "outputs": [],
   "source": [
    "brain_name = env.brain_names[0]\n",
    "brain = env.brains[brain_name]\n",
    "env_info = env.reset(train_mode=True)[brain_name] # reset the environment\n",
    "state = env_info.vector_observations[0]            # get the current state\n",
    "score = 0 \n",
    "reward = None\n",
    "done = False"
   ]
  },
  {
   "cell_type": "code",
   "execution_count": 6,
   "metadata": {},
   "outputs": [],
   "source": [
    "dqn_agent = Agent(ReinforcementNetwork, 37, 4, 42)"
   ]
  },
  {
   "cell_type": "code",
   "execution_count": 7,
   "metadata": {},
   "outputs": [
    {
     "name": "stderr",
     "output_type": "stream",
     "text": [
      " 25%|████████▎                        | 501/2000 [08:57<26:48,  1.07s/it, loss=1.06e+11, max_score=22, mean_score=1.91]D:\\Projekty\\Current\\Python\\ReinforcementLearning\\deep-reinforcement-learning\\p1_navigation\\dqn_agent.py:201: RuntimeWarning: invalid value encountered in less\n",
      "  experiences = np.random.choice(length, size=self.batch_size, p=probs)\n",
      "100%|█████████████████████████████████████| 2000/2000 [35:00<00:00,  1.05s/it, loss=nan, max_score=22, mean_score=1.01]\n"
     ]
    }
   ],
   "source": [
    "#todo: incorporate epsilon into agent\n",
    "def run(agent, env, num_episodes=20000, mode='train'):\n",
    "    \"\"\"Run agent in given reinforcement learning environment and return scores.\"\"\"\n",
    "    scores = []\n",
    "    max_avg_score = -np.inf\n",
    "    train_mode=True\n",
    "    agent.set_epsilon(1.0, 0.01, 0.8*num_episodes)\n",
    "# \n",
    "    if mode=='test':\n",
    "#         num_episodes = 1\n",
    "        train_mode=False\n",
    "        \n",
    "    with tqdm.trange(1, num_episodes+1) as t:\n",
    "        for i_episode in t:\n",
    "            last_state = None\n",
    "            last_action = None\n",
    "            state = env.reset(train_mode=train_mode)[brain_name].vector_observations[0] \n",
    "\n",
    "            total_reward = 0\n",
    "            done = False\n",
    "            action = agent.act(state)\n",
    "            \n",
    "            while not done:\n",
    "                env_info = env.step([action])[brain_name]\n",
    "                state = env_info.vector_observations[0]   \n",
    "                reward = env_info.rewards[0]\n",
    "                done = env_info.local_done[0]\n",
    "\n",
    "                total_reward += reward\n",
    "                \n",
    "                if last_state is not None:\n",
    "                    agent.step(last_state, last_action, reward, state, done)\n",
    "                action = agent.act(state, mode)\n",
    "                \n",
    "                last_state = state\n",
    "                last_action = action\n",
    "                \n",
    "            scores.append(total_reward)\n",
    "            agent.reset_episode()\n",
    "            \n",
    "            if mode == 'train':\n",
    "                if i_episode>100:\n",
    "                    mn = np.mean(scores[:-100])\n",
    "                else:\n",
    "                    mn = 0\n",
    "                t.set_postfix(max_score=np.max(scores), loss=agent.loss, mean_score=mn)\n",
    "                agent.loss = 0\n",
    "                agent.learning_steps = 0\n",
    "#                 if mn>3:\n",
    "#                     print(f\"Achieved mean 3.0 in {i_episode} episodes\")\n",
    "#                     break\n",
    "    return scores\n",
    "\n",
    "scores = run(dqn_agent, env, num_episodes=2000, mode='train')"
   ]
  },
  {
   "cell_type": "code",
   "execution_count": 8,
   "metadata": {},
   "outputs": [
    {
     "data": {
      "image/png": "[encoded data removed]",
      "text/plain": [
       "<Figure size 432x288 with 1 Axes>"
      ]
     },
     "metadata": {},
     "output_type": "display_data"
    },
    {
     "name": "stderr",
     "output_type": "stream",
     "text": [
      "  0%|                                                                                            | 0/1 [00:00<?, ?it/s]D:\\Projekty\\Current\\Python\\ReinforcementLearning\\deep-reinforcement-learning\\p1_navigation\\dqn_agent.py:201: RuntimeWarning: invalid value encountered in less\n",
      "  experiences = np.random.choice(length, size=self.batch_size, p=probs)\n",
      "100%|████████████████████████████████████████████████████████████████████████████████████| 1/1 [00:56<00:00, 56.40s/it]\n"
     ]
    },
    {
     "data": {
      "text/plain": [
       "[0.0]"
      ]
     },
     "execution_count": 8,
     "metadata": {},
     "output_type": "execute_result"
    }
   ],
   "source": [
    "plt.plot(scores)\n",
    "plt.show()\n",
    "run(dqn_agent, env, num_episodes=1, mode='test')"
   ]
  },
  {
   "cell_type": "code",
   "execution_count": null,
   "metadata": {},
   "outputs": [],
   "source": [
    "dqn_agent.saver.save(dqn_agent.sess, \"models/model.ckpt\") "
   ]
  }
 ],
 "metadata": {
  "kernelspec": {
   "display_name": "Python 3",
   "language": "python",
   "name": "python3"
  },
  "language_info": {
   "codemirror_mode": {
    "name": "ipython",
    "version": 3
   },
   "file_extension": ".py",
   "mimetype": "text/x-python",
   "name": "python",
   "nbconvert_exporter": "python",
   "pygments_lexer": "ipython3",
   "version": "3.6.5"
  }
 },
 "nbformat": 4,
 "nbformat_minor": 2
}
